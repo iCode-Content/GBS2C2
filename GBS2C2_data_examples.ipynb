{
 "cells": [
  {
   "cell_type": "markdown",
   "id": "861bc9d9-9add-42cc-92f8-1e273f374d53",
   "metadata": {
    "tags": []
   },
   "source": [
    "# GBS2C2: Intro to Data types in Python-3\n",
    "\n",
    "In this file you will see many example (and challenges) regarding Python-3 data types along with additional resouces for you to explore the fundimental data types used.\n",
    "___"
   ]
  },
  {
   "cell_type": "markdown",
   "id": "f23e49b1-3bea-4afe-ab8b-9ba2fb8a472f",
   "metadata": {},
   "source": [
    "## Integers (ints)\n",
    "\n",
    "An integer is a whole number (no decimal values on the right). Integers are one of the most commonly used data types in all programming!\n",
    "\n",
    "Here are the python docs regarding ints: https://docs.python.org/3/library/functions.html#int"
   ]
  },
  {
   "cell_type": "code",
   "execution_count": null,
   "id": "9fe19216-c814-462a-bdce-98fc45fd05f4",
   "metadata": {},
   "outputs": [],
   "source": [
    "x = 5\n",
    "x_list = [1, 2, 3, 4, 5]\n",
    "\n",
    "print(type(x))\n",
    "print(type(x_list))"
   ]
  },
  {
   "cell_type": "markdown",
   "id": "944b88b4-9bb9-4ca7-bfbb-0489aeeac4cd",
   "metadata": {},
   "source": [
    "The **type()** method is used to determine what kind of data is being evaluated. You can used it on just about anything in Python-3, for more details visit: https://docs.python.org/3/library/functions.html#type "
   ]
  },
  {
   "cell_type": "code",
   "execution_count": null,
   "id": "91121185-179e-4d22-a9fb-932264a031ae",
   "metadata": {},
   "outputs": [],
   "source": [
    "# Explore each data type in a list\n",
    "for elm in x_list:\n",
    "    print(type(elm))"
   ]
  },
  {
   "cell_type": "code",
   "execution_count": null,
   "id": "bb90e863-b637-41b0-98dd-b8a117ef7f3a",
   "metadata": {},
   "outputs": [],
   "source": [
    "if type(x) == int:\n",
    "    print(\"yes\")\n",
    "else:\n",
    "    print(\"no\")"
   ]
  },
  {
   "cell_type": "code",
   "execution_count": null,
   "id": "309f189e-f841-42f1-aa1e-0a020e9d1159",
   "metadata": {},
   "outputs": [],
   "source": [
    "print(x)\n",
    "for elm in range(len(x_list)):\n",
    "    if type(elm) == int:\n",
    "        x_list[elm] = elm + x\n",
    "    else:\n",
    "        print(\"no int found\")\n",
    "print(x_list)"
   ]
  },
  {
   "cell_type": "markdown",
   "id": "47a5747f-34be-4345-a2ac-3ef3dd3a340a",
   "metadata": {},
   "source": [
    "## Floats (float)\n",
    "\n",
    "A foalt (floating-point-decimal) is a rational number (with decimal values on the right).\n",
    "\n",
    "Here are the python docs regarding floats: https://docs.python.org/3/library/functions.html#float"
   ]
  },
  {
   "cell_type": "code",
   "execution_count": null,
   "id": "8dd8f1b3-e57e-4db5-b366-4694ec77c2a3",
   "metadata": {},
   "outputs": [],
   "source": [
    "y = 5.0\n",
    "\n",
    "print(type(y))"
   ]
  },
  {
   "cell_type": "code",
   "execution_count": null,
   "id": "a0916cbb-6efb-4121-9686-fcc95977a2a8",
   "metadata": {},
   "outputs": [],
   "source": [
    "if y == x:\n",
    "    print(\"This data is the same\")\n",
    "else:\n",
    "    print(\"Python sees this data as different\")"
   ]
  },
  {
   "cell_type": "code",
   "execution_count": null,
   "id": "0c6f1620-3021-4111-bbd4-4524a70c7a97",
   "metadata": {},
   "outputs": [],
   "source": [
    "# after running this cell, run the cell above again. What happened?\n",
    "y += 0.1"
   ]
  },
  {
   "cell_type": "code",
   "execution_count": null,
   "id": "7376647d-6f12-472f-847a-409c5aac5a1b",
   "metadata": {},
   "outputs": [],
   "source": [
    "if type(y) == type(x):\n",
    "    print(\"This is the same type of data\")\n",
    "else:\n",
    "    print(\"The data is of different types\")"
   ]
  },
  {
   "cell_type": "code",
   "execution_count": null,
   "id": "f37d93cf-e5a8-46cf-b8fc-f700aa3c19fb",
   "metadata": {},
   "outputs": [],
   "source": [
    "# floats are great for doing work with fractions.\n",
    "\n",
    "# 1/2 == 0.5\n",
    "half = 0.5\n",
    "# interest rate \n",
    "interest_RATE = 0.112\n",
    "# car price\n",
    "car_PRICE = 29988.0\n",
    "\n",
    "# Process all prices for bill\n",
    "car_with_interest = car_PRICE + (car_PRICE * interest_RATE)\n",
    "friend_discount = car_PRICE + ((car_PRICE * interest_RATE) * half)\n",
    "\n",
    "print(\"Here is a break down of the car price special we are offereing\")\n",
    "print(\"***********\")\n",
    "print(\"CAR PRICE:                    $\" + str(car_PRICE))\n",
    "print(\"Interest Rate:                    %\" + str(interest_RATE))\n",
    "print(\"TOTAL:                        $\" + str(car_with_interest))\n",
    "print(\"Friend Discount:              $\" + str(friend_discount))\n"
   ]
  },
  {
   "cell_type": "markdown",
   "id": "1942bca9-e8d9-4c0c-9a3a-08e7323df028",
   "metadata": {},
   "source": [
    "## Strings (str)\n",
    "\n",
    "A string is a set of one or more character (letter) which can be used to store text! Strings have many uses in programs and many operations are possible to conduct on them (such as indexing, slicing, adding, and subtracting).\n",
    "\n",
    "Here are the python docs regarding strings: https://docs.python.org/3/library/functions.html#func-str"
   ]
  },
  {
   "cell_type": "code",
   "execution_count": null,
   "id": "b2992adb-63fc-4b9a-b5ba-2c9622d196b3",
   "metadata": {},
   "outputs": [],
   "source": [
    "name = \"Cater\"\n",
    "fullName = \"Carter Ash\"\n",
    "nickName = \"Cash\"\n",
    "\n",
    "\n",
    "print(\"My name is \" + fullName + \", but my friends call me '\" + nickName + \"'. Since we just met, you can call me \" + name + \".\")"
   ]
  },
  {
   "cell_type": "code",
   "execution_count": null,
   "id": "0cd18737-a3ea-4b53-b5fa-00a9023fca59",
   "metadata": {},
   "outputs": [],
   "source": [
    "print(type(name))"
   ]
  },
  {
   "cell_type": "markdown",
   "id": "3dc232ef-1fce-4162-914e-47744677ff9a",
   "metadata": {},
   "source": [
    "## Casting \n",
    "\n",
    "In Python-3 sometimes you need a data type to act and be of another data type. In this case, you can __cast__ the current data type into a new one.\n",
    "string --> int (if possible)\n",
    "int --> string \n",
    "int --> float\n",
    "float --> int\n",
    "\n",
    "for more info on the various casting methods, please visit: https://www.w3schools.com/python/python_casting.asp"
   ]
  },
  {
   "cell_type": "code",
   "execution_count": null,
   "id": "3b3e6c92-199e-4350-87fc-beb4c9770b3b",
   "metadata": {},
   "outputs": [],
   "source": [
    "x = 5 \n",
    "print(type(x))\n",
    "\n",
    "x = float(x)\n",
    "print(type(x))\n",
    "\n",
    "x = str(x)\n",
    "print(type(x))"
   ]
  },
  {
   "cell_type": "code",
   "execution_count": null,
   "id": "eb316803-67a3-48b8-a7a2-b450a67bd7b7",
   "metadata": {},
   "outputs": [],
   "source": [
    "x = 5.2\n",
    "print(type(x))\n",
    "y = str(x)\n",
    "print(type(y))\n",
    "z = int(x)\n",
    "print(type(z))"
   ]
  }
 ],
 "metadata": {
  "kernelspec": {
   "display_name": "Python 3 (ipykernel)",
   "language": "python",
   "name": "python3"
  },
  "language_info": {
   "codemirror_mode": {
    "name": "ipython",
    "version": 3
   },
   "file_extension": ".py",
   "mimetype": "text/x-python",
   "name": "python",
   "nbconvert_exporter": "python",
   "pygments_lexer": "ipython3",
   "version": "3.9.12"
  }
 },
 "nbformat": 4,
 "nbformat_minor": 5
}
