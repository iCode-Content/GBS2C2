{
 "cells": [
  {
   "cell_type": "markdown",
   "id": "21e66abf-5221-485e-90a1-3b54ce78b5e2",
   "metadata": {},
   "source": [
    "# GBS2C2: Intro to Data Visualization \n",
    "\n",
    "For this file, **all** the code has been written for you! Please follow the class slides, read the section text, and view the Python-3 data vis-outputs as a class!\n",
    "\n",
    "As you go through this file, feel free to modify simple values (number only) to see the changes in output data.\n",
    "___"
   ]
  },
  {
   "cell_type": "markdown",
   "id": "bf78c236-d473-4a1b-a086-79208cc09bd6",
   "metadata": {},
   "source": [
    "## Section One: One Variable graphs\n",
    "\n",
    "* Histograms\n",
    "* Bar Graphs\n",
    "* Pie Charts\n",
    "___"
   ]
  },
  {
   "cell_type": "markdown",
   "id": "217d1a31-7388-4636-ae89-1d947a41cb14",
   "metadata": {},
   "source": [
    "### Histograms"
   ]
  },
  {
   "cell_type": "code",
   "execution_count": null,
   "id": "ffe1012a-b353-4442-9366-e79b1e329bf4",
   "metadata": {},
   "outputs": [],
   "source": [
    "import random\n",
    "import matplotlib.pyplot as plt\n",
    "\n",
    "data = []\n",
    "for i in range(100):\n",
    "    data.append(random.randint(0,50))"
   ]
  },
  {
   "cell_type": "code",
   "execution_count": null,
   "id": "2a6317fe-b44f-41b7-8b24-b3e322e7c6f3",
   "metadata": {},
   "outputs": [],
   "source": [
    "plt.hist(data, 100)"
   ]
  },
  {
   "cell_type": "markdown",
   "id": "14cc61dd-d89e-4cf2-8a2b-e3cca193f081",
   "metadata": {},
   "source": [
    "### Bar Graph"
   ]
  },
  {
   "cell_type": "code",
   "execution_count": null,
   "id": "b261edd0-e954-4a66-bf8e-d425248ff202",
   "metadata": {},
   "outputs": [],
   "source": [
    "import numpy as np \n",
    "import matplotlib.pyplot as plt \n",
    "  \n",
    "X = ['Group A','Group B','Group C','Group D']\n",
    "girl_data = [10,20,20,40]\n",
    "boys_data = [20,30,25,30]\n",
    "\n",
    "X_axis = np.arange(len(X))\n",
    "  \n",
    "plt.bar(X_axis - 0.2, girl_data, 0.4, label = 'Girls')\n",
    "plt.bar(X_axis + 0.2, boys_data, 0.4, label = 'Boys')\n",
    "  \n",
    "plt.xticks(X_axis, X)\n",
    "plt.xlabel(\"Groups\")\n",
    "plt.ylabel(\"Number of Students\")\n",
    "plt.title(\"Number of Students in each group\")\n",
    "plt.legend()\n",
    "plt.show()"
   ]
  },
  {
   "cell_type": "markdown",
   "id": "6b03ed43-41ac-4a39-af65-ba68932b3699",
   "metadata": {},
   "source": [
    "### Pie Chart (pt.1)"
   ]
  },
  {
   "cell_type": "code",
   "execution_count": null,
   "id": "8af995ce-7c1e-4f31-9961-cea960dfda25",
   "metadata": {},
   "outputs": [],
   "source": [
    "import matplotlib.pyplot as plt\n",
    "import numpy as np\n",
    "\n",
    "y = np.array([35, 25, 25, 15])\n",
    "mylabels = [\"Apples\", \"Bananas\", \"Cherries\", \"Dates\"]\n",
    "\n",
    "plt.pie(y, labels = mylabels)\n",
    "plt.show() "
   ]
  },
  {
   "cell_type": "markdown",
   "id": "ef7b8096-39e0-4511-bdf2-0d9249a82123",
   "metadata": {
    "tags": []
   },
   "source": [
    "### Pie Chart (pt.2)\n",
    "This pie chart uses the hist-data from the above example"
   ]
  },
  {
   "cell_type": "code",
   "execution_count": null,
   "id": "dc7bd440-0767-45df-a283-a317ce0db8a0",
   "metadata": {
    "tags": []
   },
   "outputs": [],
   "source": [
    "temp_data_values = {}\n",
    "occur_list = []\n",
    "labels = []\n",
    "\n",
    "\n",
    "for d in data:\n",
    "    if d not in temp_data_values:\n",
    "        temp_data_values[d] = 1\n",
    "    else:\n",
    "        temp_data_values[d] += 1\n",
    "\n",
    "for value, occurance in temp_data_values.items():\n",
    "    occur_list.append(int(occurance))\n",
    "    labels.append(str(value))\n",
    "    \n",
    "    \n",
    "plt.pie(occur_list, labels=labels)\n",
    "plt.show() "
   ]
  },
  {
   "cell_type": "markdown",
   "id": "8324cd34-0a9f-43e2-8fae-8a2e4e53a714",
   "metadata": {},
   "source": [
    "## Section Two: Two Variable graphs\n",
    "\n",
    "* Scatter Plot\n",
    "* Line Graph\n",
    "* 2D Histogram\n",
    "___"
   ]
  },
  {
   "cell_type": "markdown",
   "id": "c5440167-a6ef-442c-ac54-7891723bd820",
   "metadata": {},
   "source": [
    "### Scatter Plot\n",
    "Example of a scatter plot using income and Education data\n",
    "\n",
    "__Note__: To run this example, please download the file \"country_data.csv\" and place it into the same folder as this file (if not already done).\n",
    "\n",
    "__Note__: This data is county by county in the US."
   ]
  },
  {
   "cell_type": "code",
   "execution_count": null,
   "id": "95e448bf-1beb-4f8e-8a14-1dfb7fd760d8",
   "metadata": {
    "tags": []
   },
   "outputs": [],
   "source": [
    "import matplotlib.pyplot as plt\n",
    "import pandas as pd\n",
    "import numpy as np\n",
    "\n",
    "# using data from other sources\n",
    "income_data = pd.read_csv(\"country_data.csv\", encoding = 'unicode_escape', engine ='python')\n",
    "\n",
    "\n",
    "income = income_data[\"Median Income\"]\n",
    "education = income_data[\"% Bachelor's or Higher\"]\n",
    "\n",
    "\n",
    "fig = plt.figure()\n",
    "ax = fig.add_subplot()\n",
    "ax.scatter(income, education)\n",
    "\n",
    "ax.set(title=\"Income to % with Bachelor's or Higher\",\n",
    "       ylabel=\"% Bachelor's or Higher\",\n",
    "       xlabel=\"Median Income\"\n",
    ")"
   ]
  },
  {
   "cell_type": "markdown",
   "id": "093578d7-0c2c-4589-8be6-494a31417efa",
   "metadata": {},
   "source": [
    "### Line Graph\n",
    "\n",
    "This example is fictional and the numbers are made up."
   ]
  },
  {
   "cell_type": "code",
   "execution_count": null,
   "id": "f694d935-1c6e-4dd0-80b8-0e239859c62b",
   "metadata": {},
   "outputs": [],
   "source": [
    "study_time = [1, 2, 5, 6, 10, 12, 15, 20]\n",
    "grade = [25.0, 30.5, 50.2, 74.3, 98.2, 97.1, 100.0, 100.0]\n",
    "\n",
    "plt.plot(grade, study_time)\n",
    "plt.show()"
   ]
  },
  {
   "cell_type": "markdown",
   "id": "25eb2ff7-0633-44ca-8e3f-6a5a8cc0dd1a",
   "metadata": {},
   "source": [
    "### 2D Histogram"
   ]
  },
  {
   "cell_type": "code",
   "execution_count": null,
   "id": "affaee35-c6c1-48cd-8c8d-0b6f78ac14c0",
   "metadata": {
    "tags": []
   },
   "outputs": [],
   "source": [
    "# Import libraries\n",
    "import numpy as np\n",
    "import matplotlib.pyplot as plt\n",
    "import random\n",
    "  \n",
    "# Creating dataset\n",
    "x = np.random.normal(size = 500000)\n",
    "y = x * 3 + 4 * np.random.normal(size = 500000)\n",
    "  \n",
    "# Creating bins\n",
    "x_min = np.min(x)\n",
    "x_max = np.max(x)\n",
    "  \n",
    "y_min = np.min(y)\n",
    "y_max = np.max(y)\n",
    "  \n",
    "x_bins = np.linspace(x_min, x_max, 50)\n",
    "y_bins = np.linspace(y_min, y_max, 20)\n",
    "  \n",
    "fig, ax = plt.subplots(figsize =(10, 7))\n",
    "# Creating plot\n",
    "plt.hist2d(x, y, bins =[x_bins, y_bins], cmap = plt.cm.nipy_spectral)\n",
    "  \n",
    "# Adding color bar\n",
    "plt.colorbar()\n",
    "  \n",
    "ax.set_xlabel('X-axis') \n",
    "ax.set_ylabel('X-axis') \n",
    "  \n",
    "# show plot\n",
    "plt.tight_layout() \n",
    "plt.show()"
   ]
  }
 ],
 "metadata": {
  "kernelspec": {
   "display_name": "Python 3 (ipykernel)",
   "language": "python",
   "name": "python3"
  },
  "language_info": {
   "codemirror_mode": {
    "name": "ipython",
    "version": 3
   },
   "file_extension": ".py",
   "mimetype": "text/x-python",
   "name": "python",
   "nbconvert_exporter": "python",
   "pygments_lexer": "ipython3",
   "version": "3.9.12"
  }
 },
 "nbformat": 4,
 "nbformat_minor": 5
}
